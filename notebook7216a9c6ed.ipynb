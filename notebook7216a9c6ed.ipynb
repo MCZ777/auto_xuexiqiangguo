{
 "cells": [
  {
   "cell_type": "code",
   "execution_count": 1,
   "id": "0a502a26",
   "metadata": {
    "_cell_guid": "b1076dfc-b9ad-4769-8c92-a6c4dae69d19",
    "_uuid": "8f2839f25d086af736a60e9eeb907d3b93b6e0e5",
    "execution": {
     "iopub.execute_input": "2023-12-12T09:32:02.910777Z",
     "iopub.status.busy": "2023-12-12T09:32:02.910379Z",
     "iopub.status.idle": "2023-12-12T09:32:03.599383Z",
     "shell.execute_reply": "2023-12-12T09:32:03.597947Z"
    },
    "papermill": {
     "duration": 0.696969,
     "end_time": "2023-12-12T09:32:03.601421",
     "exception": false,
     "start_time": "2023-12-12T09:32:02.904452",
     "status": "completed"
    },
    "tags": []
   },
   "outputs": [
    {
     "name": "stdout",
     "output_type": "stream",
     "text": [
      "/kaggle/input/sft-code/data7.jsonl\n"
     ]
    }
   ],
   "source": [
    "# This Python 3 environment comes with many helpful analytics libraries installed\n",
    "# It is defined by the kaggle/python Docker image: https://github.com/kaggle/docker-python\n",
    "# For example, here's several helpful packages to load\n",
    "\n",
    "import numpy as np # linear algebra\n",
    "import pandas as pd # data processing, CSV file I/O (e.g. pd.read_csv)\n",
    "\n",
    "# Input data files are available in the read-only \"../input/\" directory\n",
    "# For example, running this (by clicking run or pressing Shift+Enter) will list all files under the input directory\n",
    "\n",
    "import os\n",
    "for dirname, _, filenames in os.walk('/kaggle/input'):\n",
    "    for filename in filenames:\n",
    "        print(os.path.join(dirname, filename))\n",
    "\n",
    "# You can write up to 20GB to the current directory (/kaggle/working/) that gets preserved as output when you create a version using \"Save & Run All\" \n",
    "# You can also write temporary files to /kaggle/temp/, but they won't be saved outside of the current session"
   ]
  },
  {
   "cell_type": "code",
   "execution_count": 2,
   "id": "cb399e91",
   "metadata": {
    "execution": {
     "iopub.execute_input": "2023-12-12T09:32:03.611345Z",
     "iopub.status.busy": "2023-12-12T09:32:03.610830Z",
     "iopub.status.idle": "2023-12-12T09:32:03.616990Z",
     "shell.execute_reply": "2023-12-12T09:32:03.616159Z"
    },
    "papermill": {
     "duration": 0.013241,
     "end_time": "2023-12-12T09:32:03.619084",
     "exception": false,
     "start_time": "2023-12-12T09:32:03.605843",
     "status": "completed"
    },
    "tags": []
   },
   "outputs": [
    {
     "name": "stdout",
     "output_type": "stream",
     "text": [
      "/kaggle\n"
     ]
    }
   ],
   "source": [
    "cd ../"
   ]
  },
  {
   "cell_type": "code",
   "execution_count": 3,
   "id": "c99a3f7e",
   "metadata": {
    "execution": {
     "iopub.execute_input": "2023-12-12T09:32:03.628239Z",
     "iopub.status.busy": "2023-12-12T09:32:03.627957Z",
     "iopub.status.idle": "2023-12-12T09:32:04.606427Z",
     "shell.execute_reply": "2023-12-12T09:32:04.604998Z"
    },
    "papermill": {
     "duration": 0.98597,
     "end_time": "2023-12-12T09:32:04.609260",
     "exception": false,
     "start_time": "2023-12-12T09:32:03.623290",
     "status": "completed"
    },
    "tags": []
   },
   "outputs": [
    {
     "name": "stdout",
     "output_type": "stream",
     "text": [
      "input  lib  src  working\r\n"
     ]
    }
   ],
   "source": [
    "!ls"
   ]
  },
  {
   "cell_type": "code",
   "execution_count": 4,
   "id": "8b5403b6",
   "metadata": {
    "execution": {
     "iopub.execute_input": "2023-12-12T09:32:04.620905Z",
     "iopub.status.busy": "2023-12-12T09:32:04.620528Z",
     "iopub.status.idle": "2023-12-12T09:32:04.626763Z",
     "shell.execute_reply": "2023-12-12T09:32:04.625744Z"
    },
    "papermill": {
     "duration": 0.014805,
     "end_time": "2023-12-12T09:32:04.629197",
     "exception": false,
     "start_time": "2023-12-12T09:32:04.614392",
     "status": "completed"
    },
    "tags": []
   },
   "outputs": [
    {
     "name": "stdout",
     "output_type": "stream",
     "text": [
      "[Errno 2] No such file or directory: 'bin'\n",
      "/kaggle\n"
     ]
    }
   ],
   "source": [
    "cd bin"
   ]
  },
  {
   "cell_type": "code",
   "execution_count": 5,
   "id": "5f0ca9e0",
   "metadata": {
    "execution": {
     "iopub.execute_input": "2023-12-12T09:32:04.639512Z",
     "iopub.status.busy": "2023-12-12T09:32:04.639161Z",
     "iopub.status.idle": "2023-12-12T09:32:05.699983Z",
     "shell.execute_reply": "2023-12-12T09:32:05.698727Z"
    },
    "papermill": {
     "duration": 1.068786,
     "end_time": "2023-12-12T09:32:05.702489",
     "exception": false,
     "start_time": "2023-12-12T09:32:04.633703",
     "status": "completed"
    },
    "tags": []
   },
   "outputs": [
    {
     "name": "stdout",
     "output_type": "stream",
     "text": [
      "Tue Dec 12 09:32:05 2023       \r\n",
      "+-----------------------------------------------------------------------------+\r\n",
      "| NVIDIA-SMI 470.161.03   Driver Version: 470.161.03   CUDA Version: 11.4     |\r\n",
      "|-------------------------------+----------------------+----------------------+\r\n",
      "| GPU  Name        Persistence-M| Bus-Id        Disp.A | Volatile Uncorr. ECC |\r\n",
      "| Fan  Temp  Perf  Pwr:Usage/Cap|         Memory-Usage | GPU-Util  Compute M. |\r\n",
      "|                               |                      |               MIG M. |\r\n",
      "|===============================+======================+======================|\r\n",
      "|   0  Tesla P100-PCIE...  Off  | 00000000:00:04.0 Off |                    0 |\r\n",
      "| N/A   31C    P0    26W / 250W |      0MiB / 16280MiB |      0%      Default |\r\n",
      "|                               |                      |                  N/A |\r\n",
      "+-------------------------------+----------------------+----------------------+\r\n",
      "                                                                               \r\n",
      "+-----------------------------------------------------------------------------+\r\n",
      "| Processes:                                                                  |\r\n",
      "|  GPU   GI   CI        PID   Type   Process name                  GPU Memory |\r\n",
      "|        ID   ID                                                   Usage      |\r\n",
      "|=============================================================================|\r\n",
      "|  No running processes found                                                 |\r\n",
      "+-----------------------------------------------------------------------------+\r\n"
     ]
    }
   ],
   "source": [
    "!nvidia-smi"
   ]
  },
  {
   "cell_type": "code",
   "execution_count": 6,
   "id": "b2d8e736",
   "metadata": {
    "execution": {
     "iopub.execute_input": "2023-12-12T09:32:05.713715Z",
     "iopub.status.busy": "2023-12-12T09:32:05.712828Z",
     "iopub.status.idle": "2023-12-12T09:37:05.676955Z",
     "shell.execute_reply": "2023-12-12T09:37:05.675814Z"
    },
    "papermill": {
     "duration": 299.972416,
     "end_time": "2023-12-12T09:37:05.679513",
     "exception": false,
     "start_time": "2023-12-12T09:32:05.707097",
     "status": "completed"
    },
    "tags": []
   },
   "outputs": [
    {
     "name": "stdout",
     "output_type": "stream",
     "text": [
      "Cloning into 'Qwen-1_8B'...\r\n",
      "remote: Enumerating objects: 105, done.\u001b[K\r\n",
      "remote: Counting objects: 100% (105/105), done.\u001b[K\r\n",
      "remote: Compressing objects: 100% (89/89), done.\u001b[K\r\n",
      "remote: Total 105 (delta 27), reused 80 (delta 14), pack-reused 0\u001b[K\r\n",
      "Receiving objects: 100% (105/105), 16.11 MiB | 5.43 MiB/s, done.\r\n",
      "Resolving deltas: 100% (27/27), done.\r\n",
      "Filtering content: 100% (2/2), 3.42 GiB | 11.94 MiB/s, done.\r\n"
     ]
    }
   ],
   "source": [
    "!git clone https://www.modelscope.cn/qwen/Qwen-1_8B.git"
   ]
  },
  {
   "cell_type": "code",
   "execution_count": 7,
   "id": "ddfd5337",
   "metadata": {
    "execution": {
     "iopub.execute_input": "2023-12-12T09:37:05.693434Z",
     "iopub.status.busy": "2023-12-12T09:37:05.693085Z",
     "iopub.status.idle": "2023-12-12T09:37:07.678822Z",
     "shell.execute_reply": "2023-12-12T09:37:07.677803Z"
    },
    "papermill": {
     "duration": 1.99532,
     "end_time": "2023-12-12T09:37:07.681154",
     "exception": false,
     "start_time": "2023-12-12T09:37:05.685834",
     "status": "completed"
    },
    "tags": []
   },
   "outputs": [
    {
     "name": "stdout",
     "output_type": "stream",
     "text": [
      "Cloning into 'MFTCoder'...\r\n",
      "remote: Enumerating objects: 406, done.\u001b[K\r\n",
      "remote: Counting objects: 100% (113/113), done.\u001b[K\r\n",
      "remote: Compressing objects: 100% (63/63), done.\u001b[K\r\n",
      "remote: Total 406 (delta 91), reused 58 (delta 50), pack-reused 293\u001b[K\r\n",
      "Receiving objects: 100% (406/406), 3.11 MiB | 22.09 MiB/s, done.\r\n",
      "Resolving deltas: 100% (201/201), done.\r\n"
     ]
    }
   ],
   "source": [
    "!git clone https://github.com/MCZ777/MFTCoder.git"
   ]
  },
  {
   "cell_type": "code",
   "execution_count": 8,
   "id": "c93e7b86",
   "metadata": {
    "execution": {
     "iopub.execute_input": "2023-12-12T09:37:07.696772Z",
     "iopub.status.busy": "2023-12-12T09:37:07.696442Z",
     "iopub.status.idle": "2023-12-12T09:37:09.777279Z",
     "shell.execute_reply": "2023-12-12T09:37:09.776276Z"
    },
    "papermill": {
     "duration": 2.091789,
     "end_time": "2023-12-12T09:37:09.779908",
     "exception": false,
     "start_time": "2023-12-12T09:37:07.688119",
     "status": "completed"
    },
    "tags": []
   },
   "outputs": [
    {
     "name": "stdout",
     "output_type": "stream",
     "text": [
      "mv: cannot stat '/kaggle/working/Qwen-1_8B': No such file or directory\r\n"
     ]
    }
   ],
   "source": [
    "!mkdir -p /kaggle/working/MFTCoder/mft_peft_hf/src/pefts/dataset /kaggle/working/MFTCoder/mft_peft_hf/src/pefts/model/fine-tuned /kaggle/working/MFTCoder/mft_peft_hf/src/pefts/tensorboard/log\n",
    "!mv /kaggle/working/Qwen-1_8B /kaggle/working/MFTCoder/mft_peft_hf/src/pefts"
   ]
  },
  {
   "cell_type": "code",
   "execution_count": 9,
   "id": "dfd18872",
   "metadata": {
    "execution": {
     "iopub.execute_input": "2023-12-12T09:37:09.796100Z",
     "iopub.status.busy": "2023-12-12T09:37:09.795227Z",
     "iopub.status.idle": "2023-12-12T09:37:31.840436Z",
     "shell.execute_reply": "2023-12-12T09:37:31.839331Z"
    },
    "papermill": {
     "duration": 22.055833,
     "end_time": "2023-12-12T09:37:31.842879",
     "exception": false,
     "start_time": "2023-12-12T09:37:09.787046",
     "status": "completed"
    },
    "tags": []
   },
   "outputs": [
    {
     "name": "stdout",
     "output_type": "stream",
     "text": [
      "Collecting ftfy\r\n",
      "  Obtaining dependency information for ftfy from https://files.pythonhosted.org/packages/91/f8/dfa32d06cfcbdb76bc46e0f5d69c537de33f4cedb1a15cd4746ab45a6a26/ftfy-6.1.3-py3-none-any.whl.metadata\r\n",
      "  Downloading ftfy-6.1.3-py3-none-any.whl.metadata (6.2 kB)\r\n",
      "Collecting wcwidth<0.3.0,>=0.2.12 (from ftfy)\r\n",
      "  Obtaining dependency information for wcwidth<0.3.0,>=0.2.12 from https://files.pythonhosted.org/packages/31/b1/a59de0ad3aabb17523a39804f4c6df3ae87ead053a4e25362ae03d73d03a/wcwidth-0.2.12-py2.py3-none-any.whl.metadata\r\n",
      "  Downloading wcwidth-0.2.12-py2.py3-none-any.whl.metadata (14 kB)\r\n",
      "Downloading ftfy-6.1.3-py3-none-any.whl (53 kB)\r\n",
      "\u001b[2K   \u001b[90m━━━━━━━━━━━━━━━━━━━━━━━━━━━━━━━━━━━━━━━━\u001b[0m \u001b[32m53.4/53.4 kB\u001b[0m \u001b[31m6.0 MB/s\u001b[0m eta \u001b[36m0:00:00\u001b[0m\r\n",
      "\u001b[?25hDownloading wcwidth-0.2.12-py2.py3-none-any.whl (34 kB)\r\n",
      "Installing collected packages: wcwidth, ftfy\r\n",
      "  Attempting uninstall: wcwidth\r\n",
      "    Found existing installation: wcwidth 0.2.6\r\n",
      "    Uninstalling wcwidth-0.2.6:\r\n",
      "      Successfully uninstalled wcwidth-0.2.6\r\n",
      "Successfully installed ftfy-6.1.3 wcwidth-0.2.12\r\n"
     ]
    }
   ],
   "source": [
    "!pip install ftfy"
   ]
  },
  {
   "cell_type": "code",
   "execution_count": 10,
   "id": "1bee002b",
   "metadata": {
    "execution": {
     "iopub.execute_input": "2023-12-12T09:37:31.860750Z",
     "iopub.status.busy": "2023-12-12T09:37:31.860055Z",
     "iopub.status.idle": "2023-12-12T09:37:31.866937Z",
     "shell.execute_reply": "2023-12-12T09:37:31.866067Z"
    },
    "papermill": {
     "duration": 0.018092,
     "end_time": "2023-12-12T09:37:31.869094",
     "exception": false,
     "start_time": "2023-12-12T09:37:31.851002",
     "status": "completed"
    },
    "tags": []
   },
   "outputs": [
    {
     "name": "stdout",
     "output_type": "stream",
     "text": [
      "/kaggle/working/MFTCoder/mft_peft_hf/src/pefts\n"
     ]
    }
   ],
   "source": [
    "cd /kaggle/working/MFTCoder/mft_peft_hf/src/pefts"
   ]
  },
  {
   "cell_type": "code",
   "execution_count": 11,
   "id": "10d85436",
   "metadata": {
    "execution": {
     "iopub.execute_input": "2023-12-12T09:37:31.886589Z",
     "iopub.status.busy": "2023-12-12T09:37:31.885889Z",
     "iopub.status.idle": "2023-12-12T09:37:41.682020Z",
     "shell.execute_reply": "2023-12-12T09:37:41.680789Z"
    },
    "papermill": {
     "duration": 9.80792,
     "end_time": "2023-12-12T09:37:41.684722",
     "exception": false,
     "start_time": "2023-12-12T09:37:31.876802",
     "status": "completed"
    },
    "tags": []
   },
   "outputs": [
    {
     "name": "stdout",
     "output_type": "stream",
     "text": [
      "Traceback (most recent call last):\r\n",
      "  File \"/opt/conda/bin/accelerate\", line 8, in <module>\r\n",
      "    sys.exit(main())\r\n",
      "  File \"/opt/conda/lib/python3.10/site-packages/accelerate/commands/accelerate_cli.py\", line 47, in main\r\n",
      "    args.func(args)\r\n",
      "  File \"/opt/conda/lib/python3.10/site-packages/accelerate/commands/launch.py\", line 995, in launch_command\r\n",
      "    args, defaults, mp_from_config_flag = _validate_launch_command(args)\r\n",
      "  File \"/opt/conda/lib/python3.10/site-packages/accelerate/commands/launch.py\", line 852, in _validate_launch_command\r\n",
      "    defaults = load_config_from_file(args.config_file)\r\n",
      "  File \"/opt/conda/lib/python3.10/site-packages/accelerate/commands/config/config_args.py\", line 46, in load_config_from_file\r\n",
      "    raise FileNotFoundError(\r\n",
      "FileNotFoundError: The passed configuration file `accelerate_ds_config.yaml` does not exist. Please pass an existing file to `accelerate launch`, or use the the default one created through `accelerate config` and run `accelerate launch` without the `--config_file` argument.\r\n"
     ]
    }
   ],
   "source": [
    "!CUDA_VISIBLE_DEVICES=0 accelerate launch --config_file accelerate_ds_config.yaml mft_accelerate.py --train_config configs/qwen_train_config_1_8B.json\n"
   ]
  }
 ],
 "metadata": {
  "kaggle": {
   "accelerator": "gpu",
   "dataSources": [
    {
     "datasetId": 4149918,
     "sourceId": 7180097,
     "sourceType": "datasetVersion"
    }
   ],
   "isGpuEnabled": true,
   "isInternetEnabled": true,
   "language": "python",
   "sourceType": "notebook"
  },
  "kernelspec": {
   "display_name": "Python 3",
   "language": "python",
   "name": "python3"
  },
  "language_info": {
   "codemirror_mode": {
    "name": "ipython",
    "version": 3
   },
   "file_extension": ".py",
   "mimetype": "text/x-python",
   "name": "python",
   "nbconvert_exporter": "python",
   "pygments_lexer": "ipython3",
   "version": "3.10.12"
  },
  "papermill": {
   "default_parameters": {},
   "duration": 342.61207,
   "end_time": "2023-12-12T09:37:42.114221",
   "environment_variables": {},
   "exception": null,
   "input_path": "__notebook__.ipynb",
   "output_path": "__notebook__.ipynb",
   "parameters": {},
   "start_time": "2023-12-12T09:31:59.502151",
   "version": "2.4.0"
  }
 },
 "nbformat": 4,
 "nbformat_minor": 5
}
